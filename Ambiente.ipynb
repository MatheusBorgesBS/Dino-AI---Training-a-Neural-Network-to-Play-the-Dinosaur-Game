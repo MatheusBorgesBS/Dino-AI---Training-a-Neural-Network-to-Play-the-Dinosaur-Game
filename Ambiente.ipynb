{
 "cells": [
  {
   "cell_type": "markdown",
   "id": "d2943dab-230b-4b6a-bf9a-74e1b62be3f7",
   "metadata": {},
   "source": [
    "#### Dinossauro"
   ]
  },
  {
   "cell_type": "code",
   "execution_count": 2,
   "id": "92858dbc-c11a-49cb-aee1-b72654126dca",
   "metadata": {},
   "outputs": [
    {
     "name": "stdout",
     "output_type": "stream",
     "text": [
      "pygame 2.6.1 (SDL 2.28.4, Python 3.12.4)\n",
      "Hello from the pygame community. https://www.pygame.org/contribute.html\n"
     ]
    }
   ],
   "source": [
    "import pygame\n",
    "cor_dino = 255,255,255\n",
    "altura_dino = 40\n",
    "largura_dino = 20\n",
    "class Dinosaur:\n",
    "    def __init__ (self, surfaceHeight):\n",
    "        self.x = 60\n",
    "        self.y = 0\n",
    "        self.yvelocity = 0\n",
    "        self.height = altura_dino\n",
    "        self.width = largura_dino\n",
    "        self.surfaceHeight = surfaceHeight\n",
    "    def jump(self):\n",
    "        if (self.y == 0): #Só pula se estiver no chao\n",
    "            self.yvelocity = 300\n",
    "    def update(self, deltaTime): # Update no pulo, vai mudando a posiçao de acordo com o tempo\n",
    "        self.yvelocity += -500*deltaTime \n",
    "        self.y += self.yvelocity * deltaTime\n",
    "        if self.y < 0: #volto pro chao e grudo no chao, volta pro normal\n",
    "            self.y = 0\n",
    "            self.yvelocity = 0\n",
    "\n",
    "    def draw(self,display):\n",
    "        pygame.draw.rect(display,cor_dino,[self.x,self.surfaceHeight-self.y-self.height,self.width,self.height])\n",
    "            "
   ]
  },
  {
   "cell_type": "markdown",
   "id": "276ea7dd-5a3f-4e6e-b989-fdce35cb3ec0",
   "metadata": {},
   "source": [
    "#### Obstaculos"
   ]
  },
  {
   "cell_type": "code",
   "execution_count": 37,
   "id": "d9f27fd9-689f-4544-812b-4befd1b1f0cf",
   "metadata": {},
   "outputs": [],
   "source": [
    "import pygame\n",
    "class Obstaculos:\n",
    "    def __init__(self,width,height,surface_width,surface_heigth, speed = 200):\n",
    "        self.width = width\n",
    "        self.height = height\n",
    "        self.x = surface_width #Eixo X dos objetos\n",
    "        self.y = surface_heigth - height  # Altura do chao\n",
    "        self.speed = speed\n",
    "    def update(self,deltaTime):\n",
    "        self.x -= self.speed * deltaTime\n",
    "    def draw(self,display,color=(255,0,0)): \n",
    "        pygame.draw.rect(display,color,[self.x,self.y+10,self.width,self.height-10])\n",
    "    def should_delete(self):\n",
    "        return self.x+self.width <0 #remove quando o eixo x e a soma da altura for menor que zero ou seja saiu da tela.\n",
    "        \n"
   ]
  },
  {
   "cell_type": "markdown",
   "id": "de921236-2c77-4fce-aeba-42d80b34a624",
   "metadata": {},
   "source": [
    "#### Pontos"
   ]
  },
  {
   "cell_type": "code",
   "execution_count": 38,
   "id": "ae2b2064-b6d2-4bd0-9bc0-cc11d0eb6af8",
   "metadata": {},
   "outputs": [],
   "source": [
    "\n",
    "class Pontos:\n",
    "    def __init__(self,canto_x = 40, canto_y = 40):\n",
    "        self.width = canto_x\n",
    "        self.height = canto_y\n",
    "        self.pontos = 0\n",
    "        self.tempo = pygame.time.get_ticks()\n",
    "        self.intervalo = 1000\n",
    "    def update(self):\n",
    "        tempo_atual = pygame.time.get_ticks()\n",
    "        if (tempo_atual - self.tempo) >= self.intervalo:\n",
    "            self.pontos += 1\n",
    "            self.tempo = tempo_atual\n",
    "        \n",
    "    def draw(self,display):\n",
    "        font = pygame.font.Font(None,36)\n",
    "        text = font.render(f\"pontos:{self.pontos}\", True,( 255,255,255))\n",
    "        display.blit(text,(self.width,self.height))"
   ]
  },
  {
   "cell_type": "markdown",
   "id": "a0c8f50f-fa08-419e-a1d8-d674574e2a17",
   "metadata": {},
   "source": [
    "#### Base"
   ]
  },
  {
   "cell_type": "code",
   "execution_count": 39,
   "id": "af90d456-7fc8-4846-93d4-5dc4ade7440b",
   "metadata": {},
   "outputs": [],
   "source": [
    "import pygame\n",
    "import random\n",
    "\n",
    "\n",
    "pygame.init()\n",
    "\n",
    "\n",
    "size = width, height = 640, 480\n",
    "\n",
    "game_display = pygame.display.set_mode(size)\n",
    "\n",
    "altura_chao = height-100\n",
    "preto = (0,0,0)\n",
    "branco = (255, 255, 255)\n",
    "\n",
    "\n",
    "dinosaur = Dinosaur(altura_chao)\n",
    "lastFrame = pygame.time.get_ticks()\n",
    "\n",
    "obstaculos = []\n",
    "spawn_timer = random.uniform(0.8, 2.5)\n",
    "\n",
    "running = True\n",
    "\n",
    "pontos = Pontos()\n",
    "while running:\n",
    "    t = pygame.time.get_ticks()\n",
    "    deltaTime = (t-lastFrame)/1000\n",
    "    lastFrame = t\n",
    "    \n",
    "    for event in pygame.event.get():    \n",
    "        if event.type == pygame.QUIT:\n",
    "            running = False\n",
    "\n",
    "        if event.type == pygame.KEYDOWN:\n",
    "            if event.key == pygame.K_SPACE:\n",
    "                dinosaur.jump()\n",
    "                \n",
    "    game_display.fill(preto)\n",
    "    \n",
    "    pygame.draw.rect(game_display, branco, [0,altura_chao, width, height-altura_chao])\n",
    "    dinosaur.update(deltaTime)\n",
    "    dinosaur.draw(game_display)\n",
    "\n",
    "    spawn_timer -= deltaTime\n",
    "    if spawn_timer<=0:\n",
    "        obstaculos.append(Obstaculos(20, 40, width, altura_chao))\n",
    "        spawn_timer = random.uniform(0.8, 2.5)\n",
    "        \n",
    "    obstaculos = [i for i in obstaculos if not i.should_delete()]\n",
    "    for i in obstaculos:\n",
    "        i.update(deltaTime)\n",
    "        i.draw(game_display)\n",
    "\n",
    "    pontos.update()\n",
    "    pontos.draw(game_display)\n",
    "\n",
    "    \n",
    "    \n",
    "    pygame.display.update()\n",
    "pygame.quit()\n",
    "\n",
    "\n",
    "           \n"
   ]
  },
  {
   "cell_type": "code",
   "execution_count": null,
   "id": "00bb998f-a12c-41ba-ab90-e0dede37d3fa",
   "metadata": {},
   "outputs": [],
   "source": []
  }
 ],
 "metadata": {
  "kernelspec": {
   "display_name": "Python 3 (ipykernel)",
   "language": "python",
   "name": "python3"
  },
  "language_info": {
   "codemirror_mode": {
    "name": "ipython",
    "version": 3
   },
   "file_extension": ".py",
   "mimetype": "text/x-python",
   "name": "python",
   "nbconvert_exporter": "python",
   "pygments_lexer": "ipython3",
   "version": "3.12.4"
  }
 },
 "nbformat": 4,
 "nbformat_minor": 5
}
