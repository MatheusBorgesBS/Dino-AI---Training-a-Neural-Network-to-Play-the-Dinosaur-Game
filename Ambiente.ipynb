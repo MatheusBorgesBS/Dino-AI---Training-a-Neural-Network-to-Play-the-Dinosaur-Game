{
  "cells": [
    {
      "cell_type": "code",
      "source": [
        "!pip install pygame"
      ],
      "metadata": {
        "colab": {
          "base_uri": "https://localhost:8080/"
        },
        "id": "E6SddNN6_HGS",
        "outputId": "ef588c5a-a4d6-4d0f-a55e-095f0ee46cf6"
      },
      "id": "E6SddNN6_HGS",
      "execution_count": null,
      "outputs": [
        {
          "output_type": "stream",
          "name": "stdout",
          "text": [
            "Requirement already satisfied: pygame in /usr/local/lib/python3.11/dist-packages (2.6.1)\n"
          ]
        }
      ]
    },
    {
      "cell_type": "markdown",
      "id": "d2943dab-230b-4b6a-bf9a-74e1b62be3f7",
      "metadata": {
        "id": "d2943dab-230b-4b6a-bf9a-74e1b62be3f7"
      },
      "source": [
        "#### Dinossauro"
      ]
    },
    {
      "cell_type": "code",
      "execution_count": 1,
      "id": "92858dbc-c11a-49cb-aee1-b72654126dca",
      "metadata": {
        "id": "92858dbc-c11a-49cb-aee1-b72654126dca",
        "colab": {
          "base_uri": "https://localhost:8080/"
        },
        "outputId": "1b89152d-00bd-40f9-ba15-8146c3774c09"
      },
      "outputs": [
        {
          "output_type": "stream",
          "name": "stdout",
          "text": [
            "pygame 2.6.1 (SDL 2.28.4, Python 3.11.11)\n",
            "Hello from the pygame community. https://www.pygame.org/contribute.html\n"
          ]
        }
      ],
      "source": [
        "import pygame\n",
        "cor_dino = 255,255,255\n",
        "altura_dino = 40\n",
        "largura_dino = 20\n",
        "\n",
        "# classe que faz todos os movimentos do dinossauro\n",
        "class Dinosaur:\n",
        "    def __init__ (self, surfaceHeight):\n",
        "        self.x = 60 # cordenada de spawn eixo X\n",
        "        self.y = 0  # cordenada de spawn eixo Y\n",
        "        self.yvelocity = 0 # Fica parado\n",
        "        self.height = altura_dino # altura do objeto\n",
        "        self.width = largura_dino # largura do objeto\n",
        "        self.surfaceHeight = surfaceHeight # altura em relaçao ao chao\n",
        "        self.estado = False # em pé ou abaixado\n",
        "        self.altura_abaixado = 20 # metade da altura\n",
        "        self.largura_abaixado = 30  # metade da largura\n",
        "\n",
        "\n",
        "    def jump(self):\n",
        "        if (self.y == 0): # <=> esta no chao ele pode pular\n",
        "            self.yvelocity = 300 #velocidade no ar ou seja sobe\n",
        "    def update(self, deltaTime):\n",
        "        self.yvelocity += -500*deltaTime # ele vai somar o 300 com -500 * deltatime, -500 simula a gravidade que multiplica com os frames da tela para suavizar\n",
        "        self.y += self.yvelocity * deltaTime # atualiza a posiçao dele * deltatime que é o fps da tela\n",
        "        if self.y < 0: # se ele ficar bugado no chao ou seja passar pra baixo dele ele vai atualizar para cima\n",
        "            self.y = 0\n",
        "            self.yvelocity = 0\n",
        "    def pe(self):\n",
        "        self.estado = False #\n",
        "        self.height = 40\n",
        "        self.width = 20\n",
        "\n",
        "    def abaixar(self):\n",
        "        self.estado = True\n",
        "        self.height = 20\n",
        "        self.width = 25\n",
        "\n",
        "\n",
        "    def draw(self,display):\n",
        "        if self.estado == True:\n",
        "            pygame.draw.rect(display,cor_dino,[self.x,self.surfaceHeight-self.y-self.height,self.width,self.height])\n",
        "        else:\n",
        "            pygame.draw.rect(display,cor_dino,[self.x,self.surfaceHeight-self.y-self.height,self.width,self.height])\n",
        "\n",
        "    def check_collision(self,obstaculo):\n",
        "        dino_rect = pygame.Rect(self.x, self.surfaceHeight- self.y -self.height, self.width,self.height)\n",
        "        obstaculo_rect = pygame.Rect(obstaculo.x,obstaculo.y,obstaculo.width,obstaculo.height)\n",
        "\n",
        "        return dino_rect.colliderect(obstaculo_rect)\n",
        "\n"
      ]
    },
    {
      "cell_type": "markdown",
      "id": "276ea7dd-5a3f-4e6e-b989-fdce35cb3ec0",
      "metadata": {
        "id": "276ea7dd-5a3f-4e6e-b989-fdce35cb3ec0"
      },
      "source": [
        "#### Obstaculos"
      ]
    },
    {
      "cell_type": "code",
      "execution_count": 2,
      "id": "d9f27fd9-689f-4544-812b-4befd1b1f0cf",
      "metadata": {
        "id": "d9f27fd9-689f-4544-812b-4befd1b1f0cf"
      },
      "outputs": [],
      "source": [
        "import pygame\n",
        "class Obstaculos:\n",
        "    def __init__(self,width,height,surface_width,surface_heigth, speed):\n",
        "        self.width = width\n",
        "        self.height = height\n",
        "        self.x = surface_width #Eixo X dos objetos\n",
        "        self.y = surface_heigth - height  # Altura do chao\n",
        "        self.speed = speed\n",
        "    def update(self,deltaTime):\n",
        "        self.x -= self.speed * deltaTime\n",
        "    def draw(self,display,color=(255,0,0)):\n",
        "        pygame.draw.rect(display,color,[self.x,self.y+10,self.width,self.height-10])\n",
        "    def should_delete(self):\n",
        "        return self.x+self.width <0 #remove quando o eixo x e a soma da altura for menor que zero ou seja saiu da tela.\n",
        "\n",
        "class Obstaculo_passaro:\n",
        "    def __init__(self,width,height,surface_width,surface_heigth, speed):\n",
        "        self.width = width\n",
        "        self.height = height\n",
        "        self.x = surface_width #eixo X dos objetos\n",
        "        self.y = surface_heigth - height - 25  # Altura do chao\n",
        "        self.speed = speed\n",
        "    def update(self,deltaTime):\n",
        "        self.x -= self.speed * deltaTime\n",
        "    def draw(self,display,color=(255,0,0)):\n",
        "        pygame.draw.rect(display,color,[self.x,self.y-5,self.width,self.height-10])\n",
        "    def should_delete(self):\n",
        "        return self.x+self.width <0 #remove quando o eixo x e a soma da altura for menor que zero ou seja saiu da tela.\n",
        "\n",
        "\n"
      ]
    },
    {
      "cell_type": "markdown",
      "id": "de921236-2c77-4fce-aeba-42d80b34a624",
      "metadata": {
        "id": "de921236-2c77-4fce-aeba-42d80b34a624"
      },
      "source": [
        "#### Pontos"
      ]
    },
    {
      "cell_type": "code",
      "execution_count": 3,
      "id": "ae2b2064-b6d2-4bd0-9bc0-cc11d0eb6af8",
      "metadata": {
        "id": "ae2b2064-b6d2-4bd0-9bc0-cc11d0eb6af8"
      },
      "outputs": [],
      "source": [
        "\n",
        "class Pontos:\n",
        "    def __init__(self,canto_x = 40, canto_y = 40):\n",
        "        self.width = canto_x\n",
        "        self.height = canto_y\n",
        "        self.pontos = 0\n",
        "        self.tempo = pygame.time.get_ticks()\n",
        "        self.intervalo = 1000\n",
        "    def update(self):\n",
        "        tempo_atual = pygame.time.get_ticks()\n",
        "        if (tempo_atual - self.tempo) >= self.intervalo:\n",
        "            self.pontos += 1\n",
        "            self.tempo = tempo_atual\n",
        "\n",
        "    def draw(self,display):\n",
        "        font = pygame.font.Font(None,36)\n",
        "        text = font.render(f\"pontos:{self.pontos}\", True,( 255,255,255))\n",
        "        display.blit(text,(self.width,self.height))"
      ]
    },
    {
      "cell_type": "markdown",
      "source": [
        "#### Recompensa"
      ],
      "metadata": {
        "id": "UlcumRK8_dE_"
      },
      "id": "UlcumRK8_dE_"
    },
    {
      "cell_type": "code",
      "source": [
        "class Recompensa:\n",
        "    def __init__(self):\n",
        "        self.recompensa_total_acumulada = 0\n",
        "        self.ultima_recompensa = 0\n",
        "\n",
        "    def calcular(self, dinosaur, obstaculo, pontos, acao):\n",
        "        recompensa = 0\n",
        "        recompensa += 0.1\n",
        "\n",
        "        if obstaculo.x + obstaculo.width < dinosaur.x and pontos.pontos > self.ultima_recompensa:\n",
        "            recompensa += 10\n",
        "            self.ultima_recompensa = pontos.pontos\n",
        "\n",
        "        if isinstance(obstaculo, Obstaculo_passaro):\n",
        "            if acao == 2:\n",
        "                recompensa += 3\n",
        "            elif acao == 1:\n",
        "                recompensa += 1\n",
        "        else:\n",
        "            if acao == 1:\n",
        "                recompensa += 3\n",
        "\n",
        "        if dinosaur.check_collision(obstaculo):\n",
        "            recompensa -= 10\n",
        "\n",
        "        if dinosaur.estado and not isinstance(obstaculo, Obstaculo_passaro):\n",
        "            recompensa -= 0.2\n",
        "\n",
        "        self.recompensa_total_acumulada += recompensa\n",
        "        return recompensa\n",
        "\n",
        "    def reset(self):\n",
        "        self.recompensa_total_acumulada = 0\n",
        "        self.ultima_recompensa = 0\n",
        "\n"
      ],
      "metadata": {
        "id": "V--UopXu_mjD"
      },
      "id": "V--UopXu_mjD",
      "execution_count": 5,
      "outputs": []
    },
    {
      "cell_type": "markdown",
      "id": "a0c8f50f-fa08-419e-a1d8-d674574e2a17",
      "metadata": {
        "id": "a0c8f50f-fa08-419e-a1d8-d674574e2a17"
      },
      "source": [
        "#### Base"
      ]
    },
    {
      "cell_type": "code",
      "execution_count": null,
      "id": "af90d456-7fc8-4846-93d4-5dc4ade7440b",
      "metadata": {
        "id": "af90d456-7fc8-4846-93d4-5dc4ade7440b"
      },
      "outputs": [],
      "source": [
        "import pygame\n",
        "import random\n",
        "\n",
        "pygame.init()\n",
        "\n",
        "v_inicial = 200\n",
        "v_atual = v_inicial\n",
        "aceleracao = 0.1\n",
        "\n",
        "size = width, height = 640, 480\n",
        "game_display = pygame.display.set_mode(size)\n",
        "\n",
        "altura_chao = height - 100\n",
        "preto = (0, 0, 0)\n",
        "branco = (255, 255, 255)\n",
        "\n",
        "dinosaur = Dinosaur(altura_chao)\n",
        "lastFrame = pygame.time.get_ticks()\n",
        "\n",
        "obstaculos = []\n",
        "obstaculos_passaro = []\n",
        "spawn_timer = 2\n",
        "spawn_timer_passaro = 3.5\n",
        "\n",
        "running = True\n",
        "game_over = False\n",
        "acao = 0\n",
        "\n",
        "\n",
        "\n",
        "pontos = Pontos()\n",
        "recompensa = Recompensa()\n",
        "\n",
        "while running:\n",
        "    t = pygame.time.get_ticks()\n",
        "    deltaTime = (t - lastFrame) / 1000\n",
        "    lastFrame = t\n",
        "\n",
        "    for event in pygame.event.get():\n",
        "        if event.type == pygame.QUIT:\n",
        "            running = False\n",
        "\n",
        "        if event.type == pygame.KEYDOWN:\n",
        "            if event.key == pygame.K_UP:\n",
        "                dinosaur.jump()\n",
        "\n",
        "            if event.key == pygame.K_DOWN:\n",
        "                dinosaur.abaixar()\n",
        "\n",
        "        if event.type == pygame.KEYUP:\n",
        "            if event.key == pygame.K_DOWN:\n",
        "                dinosaur.pe()\n",
        "\n",
        "    game_display.fill(preto)\n",
        "\n",
        "    pygame.draw.rect(game_display, branco, [0, altura_chao, width, height - altura_chao])\n",
        "    dinosaur.update(deltaTime)\n",
        "    dinosaur.draw(game_display)\n",
        "\n",
        "\n",
        "    spawn_timer -= deltaTime\n",
        "    if spawn_timer <= 0:\n",
        "        obstaculos.append(Obstaculos(20, 40, width, altura_chao, v_atual))\n",
        "        spawn_timer = 2\n",
        "\n",
        "\n",
        "    spawn_timer_passaro -= deltaTime\n",
        "    if spawn_timer_passaro <= 0:\n",
        "\n",
        "        overlap = False\n",
        "        for obstaculo in obstaculos:\n",
        "            if abs(obstaculo.x - width) < 50:\n",
        "                overlap = True\n",
        "                break\n",
        "\n",
        "        if not overlap:\n",
        "            obstaculos_passaro.append(Obstaculo_passaro(20, 50, width, altura_chao, v_atual))\n",
        "        spawn_timer_passaro = 3.5\n",
        "    for k in obstaculos + obstaculos_passaro:\n",
        "        k.speed = v_atual\n",
        "\n",
        "\n",
        "    obstaculos = [i for i in obstaculos if not i.should_delete()]\n",
        "    for i in obstaculos:\n",
        "        i.update(deltaTime)\n",
        "        i.draw(game_display, color=(255, 0, 0))  # Cactos em vermelho\n",
        "\n",
        "\n",
        "    obstaculos_passaro = [j for j in obstaculos_passaro if not j.should_delete()]\n",
        "    for j in obstaculos_passaro:\n",
        "        j.update(deltaTime)\n",
        "        j.draw(game_display, color=(0, 0, 255))  # Pássaros em azul\n",
        "\n",
        "\n",
        "    for obstaculo in obstaculos:\n",
        "        if dinosaur.check_collision(obstaculo):\n",
        "            game_over = True\n",
        "\n",
        "\n",
        "    for obstaculo_passaro in obstaculos_passaro:\n",
        "        if dinosaur.check_collision(obstaculo_passaro):\n",
        "            game_over = True\n",
        "\n",
        "    v_max = 500\n",
        "    v_atual = min(v_atual, v_max)\n",
        "\n",
        "    if game_over:\n",
        "        recompensa.reset()\n",
        "        print('Game Over! Pontuação:', pontos.pontos)\n",
        "        v_atual = v_inicial\n",
        "        obstaculos = []\n",
        "        obstaculos_passaro = []\n",
        "        pontos.pontos = 0\n",
        "        dinosaur = Dinosaur(altura_chao)\n",
        "        game_over = False\n",
        "\n",
        "        spawn_timer = 2\n",
        "        spawn_timer_passaro = 3.5\n",
        "\n",
        "    pontos.update()\n",
        "    pontos.draw(game_display)\n",
        "\n",
        "    v_atual = v_inicial + (pontos.pontos*5)\n",
        "\n",
        "\n",
        "    def dados(dinosaur, obstaculos, obstaculos_passaro, v_atual):\n",
        "        todos_obstaculos = obstaculos + obstaculos_passaro\n",
        "        if not todos_obstaculos:\n",
        "            return [width, 0, v_atual, dinosaur.y, 0]\n",
        "\n",
        "        obstaculo_mais_proximo = min(todos_obstaculos, key=lambda o: o.x)\n",
        "        r = recompensa.calcular(dinosaur, obstaculo_mais_proximo, pontos, acao)\n",
        "        return [\n",
        "            obstaculo_mais_proximo.x,\n",
        "            obstaculo_mais_proximo.height,\n",
        "            v_atual,\n",
        "            dinosaur.y,\n",
        "            0 if dinosaur.estado else 1\n",
        "        ]\n",
        "\n",
        "\n",
        "    jogo = dados(dinosaur, obstaculos, obstaculos_passaro,v_atual)\n",
        "    print(jogo)\n",
        "    pygame.display.update()\n",
        "\n",
        "pygame.quit()"
      ]
    },
    {
      "cell_type": "markdown",
      "source": [
        "#### Rede"
      ],
      "metadata": {
        "id": "wf2WPcxd9zKy"
      },
      "id": "wf2WPcxd9zKy"
    },
    {
      "cell_type": "code",
      "execution_count": null,
      "id": "e6a9dda2-6a1c-4e1f-9ad0-3e6adfd7328e",
      "metadata": {
        "id": "e6a9dda2-6a1c-4e1f-9ad0-3e6adfd7328e"
      },
      "outputs": [],
      "source": [
        "import gym\n",
        "import numpy as np\n",
        "from gym import spaces\n",
        "\n",
        "class DinoGameEnv(gym.Env):\n",
        "    def __init__(self):\n",
        "        super(DinoGameEnv, self).__init__()\n",
        "        super.action_space = spaces.Discrete(3)\n",
        "        super.observation_space = spaces.Box(low=np.array([0,0,0]), high=np.array([600,600,100]), dtype=np.float32)\n",
        "        self.reset()\n",
        "    def step(self,action):\n",
        "      recompensa = 0.1\n",
        "      done = False\n",
        "      if action == 1:\n",
        "\n"
      ]
    }
  ],
  "metadata": {
    "kernelspec": {
      "display_name": "Python 3 (ipykernel)",
      "language": "python",
      "name": "python3"
    },
    "language_info": {
      "codemirror_mode": {
        "name": "ipython",
        "version": 3
      },
      "file_extension": ".py",
      "mimetype": "text/x-python",
      "name": "python",
      "nbconvert_exporter": "python",
      "pygments_lexer": "ipython3",
      "version": "3.12.4"
    },
    "colab": {
      "provenance": []
    }
  },
  "nbformat": 4,
  "nbformat_minor": 5
}