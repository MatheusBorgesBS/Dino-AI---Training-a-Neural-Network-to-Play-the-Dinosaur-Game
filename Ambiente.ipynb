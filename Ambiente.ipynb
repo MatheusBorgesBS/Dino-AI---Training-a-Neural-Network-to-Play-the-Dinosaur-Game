{
 "cells": [
  {
   "cell_type": "markdown",
   "id": "d2943dab-230b-4b6a-bf9a-74e1b62be3f7",
   "metadata": {},
   "source": [
    "#### Dinossauro"
   ]
  },
  {
   "cell_type": "code",
   "execution_count": 5,
   "id": "92858dbc-c11a-49cb-aee1-b72654126dca",
   "metadata": {},
   "outputs": [],
   "source": [
    "import pygame\n",
    "cor_dino = 255,255,255\n",
    "altura_dino = 40\n",
    "largura_dino = 20\n",
    "class Dinosaur:\n",
    "    def __init__ (self, surfaceHeight):\n",
    "        self.x = 60\n",
    "        self.y = 0\n",
    "        self.yvelocity = 0\n",
    "        self.height = altura_dino\n",
    "        self.width = largura_dino\n",
    "        self.surfaceHeight = surfaceHeight\n",
    "    def jump(self):\n",
    "        if (self.y == 0): #Só pula se estiver no chao\n",
    "            self.yvelocity = 300\n",
    "    def update(self, deltaTime): # Update no pulo, vai mudando a posiçao de acordo com o tempo\n",
    "        self.yvelocity += -500*deltaTime \n",
    "        self.y += self.yvelocity * deltaTime\n",
    "        if self.y < 0: #volto pro chao e grudo no chao, volta pro normal\n",
    "            self.y = 0\n",
    "            self.yvelocity = 0\n",
    "\n",
    "    def draw(self,display):\n",
    "        pygame.draw.rect(display,cor_dino,[self.x,self.surfaceHeight-self.y-self.height,self.width,self.height])\n",
    "            "
   ]
  },
  {
   "cell_type": "markdown",
   "id": "a0c8f50f-fa08-419e-a1d8-d674574e2a17",
   "metadata": {
    "jp-MarkdownHeadingCollapsed": true
   },
   "source": [
    "#### Base"
   ]
  },
  {
   "cell_type": "code",
   "execution_count": 6,
   "id": "af90d456-7fc8-4846-93d4-5dc4ade7440b",
   "metadata": {},
   "outputs": [],
   "source": [
    "import pygame\n",
    "\n",
    "pygame.init()\n",
    "\n",
    "running = True\n",
    "size = width, height = 640, 480\n",
    "\n",
    "game_display = pygame.display.set_mode(size)\n",
    "\n",
    "altura_chao = height-100\n",
    "preto = 0,0,0\n",
    "branco = 255, 255, 255\n",
    "xPos = 0\n",
    "yPos = 0\n",
    "\n",
    "dinosaur = Dinosaur(altura_chao)\n",
    "lastFrame = pygame.time.get_ticks()\n",
    "\n",
    "\n",
    "while running:\n",
    "    t = pygame.time.get_ticks()\n",
    "    deltaTime = (t-lastFrame)/1000\n",
    "    lastFrame = t\n",
    "    for event in pygame.event.get():    \n",
    "        if event.type == pygame.QUIT:\n",
    "            running = False\n",
    "\n",
    "        if event.type == pygame.KEYDOWN:\n",
    "            if event.key == pygame.K_SPACE:\n",
    "                dinosaur.jump()\n",
    "                \n",
    "    game_display.fill(preto)\n",
    "    \n",
    "    pygame.draw.rect(game_display, branco, [0,altura_chao, width, height-altura_chao])\n",
    "    dinosaur.update(deltaTime)\n",
    "    dinosaur.draw(game_display)\n",
    "    \n",
    "    pygame.display.update()\n",
    "pygame.quit()\n",
    "\n",
    "\n",
    "           \n"
   ]
  },
  {
   "cell_type": "code",
   "execution_count": null,
   "id": "00bb998f-a12c-41ba-ab90-e0dede37d3fa",
   "metadata": {},
   "outputs": [],
   "source": []
  }
 ],
 "metadata": {
  "kernelspec": {
   "display_name": "Python 3 (ipykernel)",
   "language": "python",
   "name": "python3"
  },
  "language_info": {
   "codemirror_mode": {
    "name": "ipython",
    "version": 3
   },
   "file_extension": ".py",
   "mimetype": "text/x-python",
   "name": "python",
   "nbconvert_exporter": "python",
   "pygments_lexer": "ipython3",
   "version": "3.12.4"
  }
 },
 "nbformat": 4,
 "nbformat_minor": 5
}
